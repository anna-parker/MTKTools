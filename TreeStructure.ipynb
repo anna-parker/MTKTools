{
 "cells": [
  {
   "cell_type": "markdown",
   "metadata": {},
   "source": [
    "This is a short script for simulating ARGs and their corresponding trees under the Kingman and flu model. The resulting trees can then be viewed in a tree viewer - for example IcyTree.  "
   ]
  },
  {
   "cell_type": "code",
   "execution_count": 14,
   "metadata": {},
   "outputs": [],
   "source": [
    "using MTKTools\n",
    "using TreeTools\n",
    "\n",
    "outfolder = \"example_trees\"\n",
    "if !isdir(outfolder)\n",
    "    mkdir(outfolder)\n",
    "end"
   ]
  },
  {
   "cell_type": "code",
   "execution_count": 16,
   "metadata": {},
   "outputs": [
    {
     "data": {
      "text/plain": [
       "1616"
      ]
     },
     "execution_count": 16,
     "metadata": {},
     "output_type": "execute_result"
    }
   ],
   "source": [
    "rec_rate = -1.0\n",
    "res_rate = 0.3\n",
    "r = 10^rec_rate\n",
    "N = 10_000\n",
    "n = 50\n",
    "\n",
    "simtype = :flu\n",
    "c = MTKTools.get_c(res_rate, rec_rate; n=n, simtype)\n",
    "\n",
    "##simulate trees and evolve segments\n",
    "flu_trees, flu_arg = MTKTools.get_trees(8, n; c, ρ = r, simtype)\n",
    "write_newick(outfolder *\"/flu.nwk\", flu_trees[1])\n",
    "unresolved_tree = MTKTools.remove_branches([flu_trees[1]]; c, N)\n",
    "write_newick(outfolder *\"/unresolved_flu.nwk\", unresolved_tree[1])"
   ]
  },
  {
   "cell_type": "code",
   "execution_count": 17,
   "metadata": {},
   "outputs": [
    {
     "data": {
      "text/plain": [
       "1703"
      ]
     },
     "execution_count": 17,
     "metadata": {},
     "output_type": "execute_result"
    }
   ],
   "source": [
    "simtype = :kingman\n",
    "c = MTKTools.get_c(res_rate, rec_rate; n=n, simtype)\n",
    "\n",
    "##simulate trees and evolve segments\n",
    "kingman_trees, kingman_arg = MTKTools.get_trees(8, n; c, ρ = r, simtype)\n",
    "write_newick(outfolder *\"/kingman.nwk\", kingman_trees[1])\n",
    "unresolved_tree = MTKTools.remove_branches([kingman_trees[1]]; c, N)\n",
    "write_newick(outfolder *\"/unresolved_kingman.nwk\", unresolved_tree[1])"
   ]
  }
 ],
 "metadata": {
  "kernelspec": {
   "display_name": "Julia 1.7.2",
   "language": "julia",
   "name": "julia-1.7"
  },
  "language_info": {
   "file_extension": ".jl",
   "mimetype": "application/julia",
   "name": "julia",
   "version": "1.7.2"
  },
  "orig_nbformat": 4
 },
 "nbformat": 4,
 "nbformat_minor": 2
}
